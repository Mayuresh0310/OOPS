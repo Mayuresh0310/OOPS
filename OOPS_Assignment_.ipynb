{
  "nbformat": 4,
  "nbformat_minor": 0,
  "metadata": {
    "colab": {
      "provenance": []
    },
    "kernelspec": {
      "name": "python3",
      "display_name": "Python 3"
    },
    "language_info": {
      "name": "python"
    }
  },
  "cells": [
    {
      "cell_type": "markdown",
      "source": [
        "#Theory Questions:"
      ],
      "metadata": {
        "id": "CKxIg4igcMa_"
      }
    },
    {
      "cell_type": "markdown",
      "source": [
        "## 1. What is Object-Oriented Programming (OOP)?\n",
        "\n",
        "- OOP is a programming style where we organize code into objects (real-world entities) that contain data (attributes) and functions (methods) to work on that data."
      ],
      "metadata": {
        "id": "ZH20LC3Za2iQ"
      }
    },
    {
      "cell_type": "markdown",
      "source": [
        "## 2. What is a class in OOP?\n",
        "\n",
        "- A class is a blueprint for creating objects. It defines what attributes and methods the objects will have."
      ],
      "metadata": {
        "id": "zcB7gQnha2vn"
      }
    },
    {
      "cell_type": "code",
      "source": [
        "class Car:\n",
        "    def drive(self):\n",
        "        print(\"Car is moving\")\n",
        "\n",
        "c1 = Car()\n",
        "c1.drive()\n"
      ],
      "metadata": {
        "colab": {
          "base_uri": "https://localhost:8080/"
        },
        "id": "bxqS8r8sbT0I",
        "outputId": "a509f3f8-8dca-469f-a72f-5d01b8f4ab31"
      },
      "execution_count": 3,
      "outputs": [
        {
          "output_type": "stream",
          "name": "stdout",
          "text": [
            "Car is moving\n"
          ]
        }
      ]
    },
    {
      "cell_type": "markdown",
      "source": [
        "## 3. What is an object in OOP?\n",
        "\n",
        "- An object is an instance of a class. It has its own data and can use the class’s methods."
      ],
      "metadata": {
        "id": "jpBUGqJaa3EJ"
      }
    },
    {
      "cell_type": "code",
      "source": [
        "my_car = Car()  # my_car is an object of class Car\n",
        "my_car.drive()"
      ],
      "metadata": {
        "colab": {
          "base_uri": "https://localhost:8080/"
        },
        "id": "hYnB1ecKbw5_",
        "outputId": "a892350e-8450-4e02-bf43-8bced9169591"
      },
      "execution_count": 4,
      "outputs": [
        {
          "output_type": "stream",
          "name": "stdout",
          "text": [
            "Car is moving\n"
          ]
        }
      ]
    },
    {
      "cell_type": "markdown",
      "source": [
        "## 4. What is the difference between abstraction and encapsulation?\n",
        "\n",
        "- Abstraction: Hides complex details and shows only important parts to the user.\n",
        "\n",
        "- Encapsulation: Bundles data and methods together and restricts direct access to some parts to protect data.\n"
      ],
      "metadata": {
        "id": "zT6WnlAGa3SX"
      }
    },
    {
      "cell_type": "markdown",
      "source": [
        "## 5.  What are dunder methods in Python?\n",
        "\n",
        "- Dunder methods (double underscore) are special methods in Python like __init__, __str__, __add__ that start and end with __. They give special behavior to objects.\n",
        "\n",
        "- Example: __init__ is called when an object is created.\n",
        "\n",
        "\n",
        "\n"
      ],
      "metadata": {
        "id": "1albqTxTcIfn"
      }
    },
    {
      "cell_type": "markdown",
      "source": [
        "## 6. Explain the concept of inheritance in OOP ?\n",
        "\n",
        "- Inheritance allows a class (child class) to **inherit properties and methods from another class (parent class), enabling code reuse."
      ],
      "metadata": {
        "id": "8Wy058vncItv"
      }
    },
    {
      "cell_type": "markdown",
      "source": [
        "## 7. What is polymorphism in OOP?\n",
        "\n",
        "- Polymorphism means “many forms”, allowing the same method name to perform different tasks depending on the object.\n",
        "\n",
        "- Example: Different classes having a speak() method but with different outputs."
      ],
      "metadata": {
        "id": "pc1lHoB5cI6X"
      }
    },
    {
      "cell_type": "markdown",
      "source": [
        "## 8. How is encapsulation achieved in Python?\n",
        "\n",
        "- By using private attributes (prefixing with _ or __) and methods to control access, and using getter and setter methods to safely access or modify data.\n",
        "\n",
        "\n"
      ],
      "metadata": {
        "id": "v0GiwZtCcJWn"
      }
    },
    {
      "cell_type": "markdown",
      "source": [
        "## 9. What is a constructor in Python?\n",
        "\n",
        "- __init__ is the constructor in Python, automatically called when an object is created to initialize its attributes."
      ],
      "metadata": {
        "id": "xPpSjXiycJq-"
      }
    },
    {
      "cell_type": "markdown",
      "source": [
        "## 10. What are class and static methods in Python?\n",
        "\n",
        "- Class methods: Defined using @classmethod, take cls as the first parameter, and can access/modify class variables.\n",
        "\n",
        "- Static methods: Defined using @staticmethod, do not take self or cls, and behave like normal functions within the class."
      ],
      "metadata": {
        "id": "iOiNnnbFcJIP"
      }
    },
    {
      "cell_type": "markdown",
      "source": [
        "## 11. What is method overloading in Python?\n",
        "\n",
        "- Method overloading refers to the ability to define multiple methods with the same name but different parameters(number or type). Python does not support tradiitonal method overloading. However to achieve this Pyhton uses:\n",
        "Default Argument: You can simulate overloading by using default values for parameters.\n",
        "\n",
        "  "
      ],
      "metadata": {
        "id": "A-7KtpU1duAf"
      }
    },
    {
      "cell_type": "markdown",
      "source": [
        "## 12. What is method overriding in OOP?\n",
        "\n",
        "- Method overriding means redefining a method of the parent class in the child class with the same name to give it different behavior."
      ],
      "metadata": {
        "id": "Q3J_VBYKduuX"
      }
    },
    {
      "cell_type": "markdown",
      "source": [
        "## 13. What is a property decorator in Python?\n",
        "\n",
        "- @property is used to turn a method into a property, allowing attribute-like access while using a method internally."
      ],
      "metadata": {
        "id": "LIAwQViidum3"
      }
    },
    {
      "cell_type": "markdown",
      "source": [
        "## 14. Why is polymorphism important in OOP?\n",
        "\n",
        "- Polymorphism allows writing flexible and reusable code by enabling the same interface to be used with different objects."
      ],
      "metadata": {
        "id": "ps1eVZG-dugP"
      }
    },
    {
      "cell_type": "markdown",
      "source": [
        "## 15. What is an abstract class in Python?\n",
        "\n",
        "- An abstract class cannot be instantiated and may contain abstract methods (methods without implementation). It is used to define common interfaces for subclasses.\n",
        "\n",
        "- Use the abc module to create abstract classes in Python.\n",
        "\n"
      ],
      "metadata": {
        "id": "v6q7M9dxduY_"
      }
    },
    {
      "cell_type": "markdown",
      "source": [
        "## 16. What are the advantages of OOP?\n",
        "\n",
        "-  Code reusability (inheritance)\n",
        "- Data protection (encapsulation)\n",
        "- Real-world modeling\n",
        "-  Code organization and scalability\n",
        "-  Flexibility through polymorphism"
      ],
      "metadata": {
        "id": "xigDCFmYduNH"
      }
    },
    {
      "cell_type": "markdown",
      "source": [
        "## 17. What is the difference between a class variable and an instance variable?\n",
        "\n",
        "- Class variable: Shared by all instances of the class.\n",
        "\n",
        "- Instance variable: Unique to each object."
      ],
      "metadata": {
        "id": "FeO4-jBcez02"
      }
    },
    {
      "cell_type": "markdown",
      "source": [
        "## 18.  What is multiple inheritance in Python?\n",
        "\n",
        "- When a class inherits from more than one parent class, it is called multiple inheritance."
      ],
      "metadata": {
        "id": "BbBcpBVYezzH"
      }
    },
    {
      "cell_type": "markdown",
      "source": [],
      "metadata": {
        "id": "7i1QBI1Hezxo"
      }
    },
    {
      "cell_type": "code",
      "source": [
        "class C(A, B):\n",
        "    pass"
      ],
      "metadata": {
        "id": "6c_mEwb6fIJ3"
      },
      "execution_count": 7,
      "outputs": []
    },
    {
      "cell_type": "markdown",
      "source": [
        "## 19. Explain the purpose of ‘’__str__’ and ‘__repr__’ ‘ methods in Python?\n",
        "\n",
        "- __str__: Returns a readable string representation for users.\n",
        "\n",
        "- __repr__: Returns a formal string representation for developers and debugging.\n",
        "\n",
        "\n"
      ],
      "metadata": {
        "id": "Rz_0Tr39ezvX"
      }
    },
    {
      "cell_type": "markdown",
      "source": [
        "## 20. What is the significance of the ‘super()’ function in Python?\n",
        "\n",
        "- super() is used to call methods of the parent class in a child class, allowing you to extend or modify parent class behavior."
      ],
      "metadata": {
        "id": "UXN-XnhvezqO"
      }
    },
    {
      "cell_type": "markdown",
      "source": [
        "## 21. What is the significance of the __del__ method in Python?\n",
        "\n",
        "- __del__ is a destructor method, called when an object is about to be destroyed to perform cleanup tasks.\n",
        "\n",
        "\n"
      ],
      "metadata": {
        "id": "avRIsu14eznv"
      }
    },
    {
      "cell_type": "markdown",
      "source": [
        "##22. What is the difference between @staticmethod and @classmethod in Python?\n",
        "\n",
        "- @staticmethod: Does not take self or cls, cannot access class or instance data.\n",
        "\n",
        "- @classmethod: Takes cls, can access and modify class-level data.\n",
        "\n"
      ],
      "metadata": {
        "id": "sIZYgy6aezkv"
      }
    },
    {
      "cell_type": "markdown",
      "source": [
        "## 23. How does polymorphism work in Python with inheritance?\n",
        "\n",
        "- When a child class overrides a parent class method, and you call the method on the object, Python determines which method to run based on the object's type."
      ],
      "metadata": {
        "id": "HW6Qs704ezdX"
      }
    },
    {
      "cell_type": "markdown",
      "source": [
        "## 24. What is method chaining in Python OOP?\n",
        "\n",
        "Method chaining allows calling multiple methods in a single line by returning self from methods.\n"
      ],
      "metadata": {
        "id": "rMl_1euyf4OP"
      }
    },
    {
      "cell_type": "code",
      "source": [
        "obj.method1().method2().method3()\n"
      ],
      "metadata": {
        "id": "tTkUGWtggCsH"
      },
      "execution_count": null,
      "outputs": []
    },
    {
      "cell_type": "markdown",
      "source": [
        "## 25. What is the purpose of the __call__ method in Python?\n",
        "\n",
        "- The __call__ method allows an object to be called like a function."
      ],
      "metadata": {
        "id": "pGrmzQx1gDSO"
      }
    },
    {
      "cell_type": "code",
      "source": [
        "class MyClass:\n",
        "    def __call__(self):\n",
        "        print(\"Object called like a function\")\n",
        "\n",
        "obj = MyClass()\n",
        "obj()  # This will print \"Object called like a function\"\n"
      ],
      "metadata": {
        "colab": {
          "base_uri": "https://localhost:8080/"
        },
        "id": "bObM2vENgOfv",
        "outputId": "e58f4b94-6411-4e53-8de8-9b81f90ba2ac"
      },
      "execution_count": 8,
      "outputs": [
        {
          "output_type": "stream",
          "name": "stdout",
          "text": [
            "Object called like a function\n"
          ]
        }
      ]
    },
    {
      "cell_type": "markdown",
      "source": [
        "# Practical Questions:"
      ],
      "metadata": {
        "id": "wCAFXsA0f4MG"
      }
    },
    {
      "cell_type": "markdown",
      "source": [
        "## 1. Create a parent class Animal with a method speak() that prints a generic message. Create a child class Dogthat overrides the speak() method to print \"Bark!\"."
      ],
      "metadata": {
        "id": "RF7dGVZ7g6Ov"
      }
    },
    {
      "cell_type": "code",
      "source": [
        "class Animal:\n",
        "    def speak(self):\n",
        "        print(\"Animal speaks in a generic way.\")\n",
        "\n",
        "class Dog(Animal):\n",
        "    def speak(self):\n",
        "        print(\"Bark!\")\n",
        "\n",
        "# Test\n",
        "a = Animal()\n",
        "a.speak()  # Animal speaks in a generic way.\n"
      ],
      "metadata": {
        "colab": {
          "base_uri": "https://localhost:8080/"
        },
        "id": "Ftxp8uUxgWOV",
        "outputId": "3d84984c-0318-4269-80d4-3fd268783428"
      },
      "execution_count": 10,
      "outputs": [
        {
          "output_type": "stream",
          "name": "stdout",
          "text": [
            "Animal speaks in a generic way.\n"
          ]
        }
      ]
    },
    {
      "cell_type": "code",
      "source": [
        "d = Dog()\n",
        "d.speak()  # Bark!"
      ],
      "metadata": {
        "colab": {
          "base_uri": "https://localhost:8080/"
        },
        "id": "zrPxvzxIhTHj",
        "outputId": "289bea1b-b0b7-47cd-c8f6-9f0d288ed83c"
      },
      "execution_count": 11,
      "outputs": [
        {
          "output_type": "stream",
          "name": "stdout",
          "text": [
            "Bark!\n"
          ]
        }
      ]
    },
    {
      "cell_type": "markdown",
      "source": [
        "## 2.  Write a program to create an abstract class Shape with a method area(). Derive classes Circle and Rectangle from it and implement the area() method in both."
      ],
      "metadata": {
        "id": "6RPVbTDihhq2"
      }
    },
    {
      "cell_type": "code",
      "source": [
        "from abc import ABC, abstractmethod\n",
        "\n",
        "class Shape(ABC):\n",
        "    @abstractmethod\n",
        "    def area(self):\n",
        "        pass\n",
        "\n",
        "class Circle(Shape):\n",
        "    def __init__(self, radius):\n",
        "        self.radius = radius\n",
        "\n",
        "    def area(self):\n",
        "        return 3.14 * self.radius * self.radius\n",
        "\n",
        "class Rectangle(Shape):\n",
        "    def __init__(self, length, breadth):\n",
        "        self.length = length\n",
        "        self.breadth = breadth\n",
        "\n",
        "    def area(self):\n",
        "        return self.length * self.breadth\n",
        "\n",
        "# Test\n",
        "c = Circle(5)\n",
        "print(\"Circle Area:\", c.area())  # Circle Area: 78.5\n",
        "\n",
        "r = Rectangle(4, 6)\n",
        "print(\"Rectangle Area:\", r.area())  # Rectangle Area: 24\n"
      ],
      "metadata": {
        "colab": {
          "base_uri": "https://localhost:8080/"
        },
        "id": "Rrfx7MvbhZU0",
        "outputId": "0e290fb6-8035-4576-8dd0-915d16de312a"
      },
      "execution_count": 12,
      "outputs": [
        {
          "output_type": "stream",
          "name": "stdout",
          "text": [
            "Circle Area: 78.5\n",
            "Rectangle Area: 24\n"
          ]
        }
      ]
    },
    {
      "cell_type": "markdown",
      "source": [
        "## 3. Implement a multi-level inheritance scenario where a class Vehicle has an attribute type. Derive a class Car and further derive a class ElectricCar that adds a battery attribute."
      ],
      "metadata": {
        "id": "a9LHffTThxSe"
      }
    },
    {
      "cell_type": "code",
      "source": [
        "class Vehicle:\n",
        "    def __init__(self, type):\n",
        "        self.type = type\n",
        "\n",
        "class Car(Vehicle):\n",
        "    def __init__(self, type, brand):\n",
        "        super().__init__(type)\n",
        "        self.brand = brand\n",
        "\n",
        "class ElectricCar(Car):\n",
        "    def __init__(self, type, brand, battery):\n",
        "        super().__init__(type, brand)\n",
        "        self.battery = battery\n",
        "\n",
        "# Test\n",
        "e = ElectricCar(\"Four Wheeler\", \"Tesla\", \"100 kWh\")\n",
        "print(e.type)      # Four Wheeler\n",
        "print(e.brand)     # Tesla\n",
        "print(e.battery)   # 100 kWh\n"
      ],
      "metadata": {
        "colab": {
          "base_uri": "https://localhost:8080/"
        },
        "id": "tIQfkWKuhozg",
        "outputId": "c7104409-1b2c-42a2-b671-78c1450f7e27"
      },
      "execution_count": 13,
      "outputs": [
        {
          "output_type": "stream",
          "name": "stdout",
          "text": [
            "Four Wheeler\n",
            "Tesla\n",
            "100 kWh\n"
          ]
        }
      ]
    },
    {
      "cell_type": "markdown",
      "source": [
        "## 4. Demonstrate polymorphism by creating a base class Bird with a method fly(). Create two derived classes Sparrow and Penguin that override the fly() method.\n"
      ],
      "metadata": {
        "id": "3RP47Wdjh85v"
      }
    },
    {
      "cell_type": "code",
      "source": [
        "class Bird:\n",
        "    def fly(self):\n",
        "        print(\"Bird is flying.\")\n",
        "\n",
        "class Sparrow(Bird):\n",
        "    def fly(self):\n",
        "        print(\"Sparrow flies high.\")\n",
        "\n",
        "class Penguin(Bird):\n",
        "    def fly(self):\n",
        "        print(\"Penguins cannot fly.\")\n",
        "\n",
        "# Test\n",
        "b = Bird()\n",
        "b.fly()  # Bird is flying.\n",
        "\n",
        "s = Sparrow()\n",
        "s.fly()  # Sparrow flies high.\n",
        "\n",
        "p = Penguin()\n",
        "p.fly()  # Penguins cannot fly.\n"
      ],
      "metadata": {
        "id": "CJB-M5dvh55g"
      },
      "execution_count": null,
      "outputs": []
    },
    {
      "cell_type": "markdown",
      "source": [
        "## 5. Write a program to demonstrate encapsulation by creating a class BankAccount with private attributes balance and methods to deposit, withdraw, and check balance."
      ],
      "metadata": {
        "id": "uSn4hJBPiE2-"
      }
    },
    {
      "cell_type": "code",
      "source": [
        "class BankAccount:\n",
        "    def __init__(self, balance):\n",
        "        self.__balance = balance\n",
        "\n",
        "    def deposit(self, amount):\n",
        "        self.__balance += amount\n",
        "\n",
        "    def withdraw(self, amount):\n",
        "        if amount <= self.__balance:\n",
        "            self.__balance -= amount\n",
        "        else:\n",
        "            print(\"Insufficient balance.\")\n",
        "\n",
        "    def check_balance(self):\n",
        "        return self.__balance\n",
        "\n",
        "# Test\n",
        "b = BankAccount(1000)\n",
        "b.deposit(500)\n",
        "b.withdraw(300)\n",
        "print(\"Balance:\", b.check_balance())  # Balance: 1200\n"
      ],
      "metadata": {
        "colab": {
          "base_uri": "https://localhost:8080/"
        },
        "id": "fiyMjtlHiMfH",
        "outputId": "9e22ab73-89d2-433c-d38a-680d00003730"
      },
      "execution_count": 14,
      "outputs": [
        {
          "output_type": "stream",
          "name": "stdout",
          "text": [
            "Balance: 1200\n"
          ]
        }
      ]
    },
    {
      "cell_type": "markdown",
      "source": [
        "## 6.  Demonstrate runtime polymorphism using a method play() in a base class Instrument. Derive classes Guitar and Piano that implement their own version of play()."
      ],
      "metadata": {
        "id": "r-cW_EggiEie"
      }
    },
    {
      "cell_type": "code",
      "source": [
        "class Instrument:\n",
        "    def play(self):\n",
        "        print(\"Instrument is playing.\")\n",
        "\n",
        "class Guitar(Instrument):\n",
        "    def play(self):\n",
        "        print(\"Guitar is strumming.\")\n",
        "\n",
        "class Piano(Instrument):\n",
        "    def play(self):\n",
        "        print(\"Piano is playing notes.\")\n",
        "\n",
        "# Test\n",
        "i = Instrument()\n",
        "i.play()  # Instrument is playing.\n",
        "\n",
        "g = Guitar()\n",
        "g.play()  # Guitar is strumming.\n",
        "\n",
        "p = Piano()\n",
        "p.play()  # Piano is playing notes.\n"
      ],
      "metadata": {
        "colab": {
          "base_uri": "https://localhost:8080/"
        },
        "id": "RteurWW1iSjR",
        "outputId": "2aeae952-377c-4180-b35c-b2c06a514e44"
      },
      "execution_count": 15,
      "outputs": [
        {
          "output_type": "stream",
          "name": "stdout",
          "text": [
            "Instrument is playing.\n",
            "Guitar is strumming.\n",
            "Piano is playing notes.\n"
          ]
        }
      ]
    },
    {
      "cell_type": "markdown",
      "source": [
        "## 7. Create a class MathOperations with a class method add_numbers() to add two numbers and a static method subtract_numbers() to subtract two numbers."
      ],
      "metadata": {
        "id": "v3pRfu-ZiVi_"
      }
    },
    {
      "cell_type": "code",
      "source": [
        "class MathOperations:\n",
        "    @classmethod\n",
        "    def add_numbers(cls, a, b):\n",
        "        return a + b\n",
        "\n",
        "    @staticmethod\n",
        "    def subtract_numbers(a, b):\n",
        "        return a - b\n",
        "\n",
        "# Test\n",
        "print(\"Addition:\", MathOperations.add_numbers(10, 5))      # Addition: 15\n",
        "print(\"Subtraction:\", MathOperations.subtract_numbers(10, 5))  # Subtraction: 5\n"
      ],
      "metadata": {
        "colab": {
          "base_uri": "https://localhost:8080/"
        },
        "id": "2lqkzojFiUac",
        "outputId": "e8805f53-d631-41c7-dfb8-348d0f8b3cf3"
      },
      "execution_count": 16,
      "outputs": [
        {
          "output_type": "stream",
          "name": "stdout",
          "text": [
            "Addition: 15\n",
            "Subtraction: 5\n"
          ]
        }
      ]
    },
    {
      "cell_type": "markdown",
      "source": [
        "## 8. Implement a class Person with a class method to count the total number of persons created."
      ],
      "metadata": {
        "id": "DpkdP45PibLI"
      }
    },
    {
      "cell_type": "code",
      "source": [
        "class Person:\n",
        "    count = 0\n",
        "\n",
        "    def __init__(self, name):\n",
        "        self.name = name\n",
        "        Person.count += 1\n",
        "\n",
        "    @classmethod\n",
        "    def total_persons(cls):\n",
        "        return cls.count\n",
        "\n",
        "# Test\n",
        "p1 = Person(\"A\")\n",
        "p2 = Person(\"B\")\n",
        "print(\"Total Persons:\", Person.total_persons())  # Total Persons: 2\n"
      ],
      "metadata": {
        "colab": {
          "base_uri": "https://localhost:8080/"
        },
        "id": "LyavRVrXiaOo",
        "outputId": "fa600ad6-6463-437f-8f1f-8a6efdcfc306"
      },
      "execution_count": 17,
      "outputs": [
        {
          "output_type": "stream",
          "name": "stdout",
          "text": [
            "Total Persons: 2\n"
          ]
        }
      ]
    },
    {
      "cell_type": "markdown",
      "source": [
        "## 9. Write a class Fraction with attributes numerator and denominator. Override the str method to display the fraction as \"numerator/denominator\"."
      ],
      "metadata": {
        "id": "C9gKc6NpihxP"
      }
    },
    {
      "cell_type": "code",
      "source": [
        "class Fraction:\n",
        "    def __init__(self, numerator, denominator):\n",
        "        self.numerator = numerator\n",
        "        self.denominator = denominator\n",
        "\n",
        "    def __str__(self):\n",
        "        return f\"{self.numerator}/{self.denominator}\"\n",
        "\n",
        "# Test\n",
        "f = Fraction(3, 4)\n",
        "print(f)  # 3/4\n"
      ],
      "metadata": {
        "colab": {
          "base_uri": "https://localhost:8080/"
        },
        "id": "r7TrcBUqiglu",
        "outputId": "0d240dd3-1914-4fd2-aa5a-5c9b8898bbf9"
      },
      "execution_count": 18,
      "outputs": [
        {
          "output_type": "stream",
          "name": "stdout",
          "text": [
            "3/4\n"
          ]
        }
      ]
    },
    {
      "cell_type": "markdown",
      "source": [
        "## 10. Demonstrate operator overloading by creating a class Vector and overriding the add method to add two vectors."
      ],
      "metadata": {
        "id": "MOEUjTt1inNG"
      }
    },
    {
      "cell_type": "code",
      "source": [
        "class Vector:\n",
        "    def __init__(self, x, y):\n",
        "        self.x = x\n",
        "        self.y = y\n",
        "\n",
        "    def __add__(self, other):\n",
        "        return Vector(self.x + other.x, self.y + other.y)\n",
        "\n",
        "    def __str__(self):\n",
        "        return f\"Vector({self.x}, {self.y})\"\n",
        "\n",
        "# Test\n",
        "v1 = Vector(1, 2)\n",
        "v2 = Vector(3, 4)\n",
        "v3 = v1 + v2\n",
        "print(v3)  # Vector(4, 6)\n"
      ],
      "metadata": {
        "colab": {
          "base_uri": "https://localhost:8080/"
        },
        "id": "c4ZKwkKPimdl",
        "outputId": "a211af3f-e550-4a8e-a381-532f392e0d5b"
      },
      "execution_count": 19,
      "outputs": [
        {
          "output_type": "stream",
          "name": "stdout",
          "text": [
            "Vector(4, 6)\n"
          ]
        }
      ]
    },
    {
      "cell_type": "markdown",
      "source": [
        "##11. Create a class Person with attributes name and age. Add a method greet() that prints \"Hello, my name is {name} and I am {age} years old.\""
      ],
      "metadata": {
        "id": "nf4b4fuVive-"
      }
    },
    {
      "cell_type": "code",
      "source": [
        "class Person:\n",
        "    def __init__(self, name, age):\n",
        "        self.name = name\n",
        "        self.age = age\n",
        "\n",
        "    def greet(self):\n",
        "        print(f\"Hello, my name is {self.name} and I am {self.age} years old.\")\n",
        "\n",
        "# Test\n",
        "p = Person(\"Alice\", 20)\n",
        "p.greet()\n",
        "# Output: Hello, my name is Alice and I am 20 years old.\n"
      ],
      "metadata": {
        "colab": {
          "base_uri": "https://localhost:8080/"
        },
        "id": "1DzabBhzisZJ",
        "outputId": "d18a7f62-025c-4020-ee48-327770d31540"
      },
      "execution_count": 20,
      "outputs": [
        {
          "output_type": "stream",
          "name": "stdout",
          "text": [
            "Hello, my name is Alice and I am 20 years old.\n"
          ]
        }
      ]
    },
    {
      "cell_type": "markdown",
      "source": [
        "##12.  Implement a class Student with attributes name and grades. Create a method average_grade() to compute the average of the grades."
      ],
      "metadata": {
        "id": "hQrA7XFZjC8P"
      }
    },
    {
      "cell_type": "code",
      "source": [
        "class Student:\n",
        "    def __init__(self, name, grades):\n",
        "        self.name = name\n",
        "        self.grades = grades  # list of grades\n",
        "\n",
        "    def average_grade(self):\n",
        "        return sum(self.grades) / len(self.grades)\n",
        "\n",
        "# Test\n",
        "s = Student(\"Bob\", [85, 90, 78])\n",
        "print(\"Average Grade:\", s.average_grade())  # Average Grade: 84.333...\n"
      ],
      "metadata": {
        "colab": {
          "base_uri": "https://localhost:8080/"
        },
        "id": "9BlIu9PtjB4j",
        "outputId": "1a625b50-d1d6-470c-b370-9ac5f3c6dc1d"
      },
      "execution_count": 21,
      "outputs": [
        {
          "output_type": "stream",
          "name": "stdout",
          "text": [
            "Average Grade: 84.33333333333333\n"
          ]
        }
      ]
    },
    {
      "cell_type": "markdown",
      "source": [
        "##13.  Create a class Rectangle with methods set_dimensions() to set the dimensions and area() to calculate the area."
      ],
      "metadata": {
        "id": "JxmmElWgjLCf"
      }
    },
    {
      "cell_type": "code",
      "source": [
        "class Rectangle:\n",
        "    def set_dimensions(self, length, breadth):\n",
        "        self.length = length\n",
        "        self.breadth = breadth\n",
        "\n",
        "    def area(self):\n",
        "        return self.length * self.breadth\n",
        "\n",
        "# Test\n",
        "r = Rectangle()\n",
        "r.set_dimensions(5, 4)\n",
        "print(\"Area:\", r.area())  # Area: 20\n"
      ],
      "metadata": {
        "colab": {
          "base_uri": "https://localhost:8080/"
        },
        "id": "IW4oIWOFjKXY",
        "outputId": "8cc89aa8-49c5-4a78-cd36-cced4618c53b"
      },
      "execution_count": 22,
      "outputs": [
        {
          "output_type": "stream",
          "name": "stdout",
          "text": [
            "Area: 20\n"
          ]
        }
      ]
    },
    {
      "cell_type": "markdown",
      "source": [
        "##14.  Create a class Employee with a method calculate_salary() that computes the salary based on hours worked and hourly rate. Create a derived class Manager that adds a bonus to the salary."
      ],
      "metadata": {
        "id": "1t-HPaGojQ1Y"
      }
    },
    {
      "cell_type": "code",
      "source": [
        "class Employee:\n",
        "    def __init__(self, hours_worked, hourly_rate):\n",
        "        self.hours_worked = hours_worked\n",
        "        self.hourly_rate = hourly_rate\n",
        "\n",
        "    def calculate_salary(self):\n",
        "        return self.hours_worked * self.hourly_rate\n",
        "\n",
        "class Manager(Employee):\n",
        "    def __init__(self, hours_worked, hourly_rate, bonus):\n",
        "        super().__init__(hours_worked, hourly_rate)\n",
        "        self.bonus = bonus\n",
        "\n",
        "    def calculate_salary(self):\n",
        "        base_salary = super().calculate_salary()\n",
        "        return base_salary + self.bonus\n",
        "\n",
        "# Test\n",
        "e = Employee(40, 200)\n",
        "print(\"Employee Salary:\", e.calculate_salary())  # Employee Salary: 8000\n",
        "\n",
        "m = Manager(40, 200, 5000)\n",
        "print(\"Manager Salary:\", m.calculate_salary())   # Manager Salary: 13000\n"
      ],
      "metadata": {
        "colab": {
          "base_uri": "https://localhost:8080/"
        },
        "id": "2XX43rHOjQKg",
        "outputId": "96c3629c-2793-4ea2-fd48-e09fef2de7b1"
      },
      "execution_count": 23,
      "outputs": [
        {
          "output_type": "stream",
          "name": "stdout",
          "text": [
            "Employee Salary: 8000\n",
            "Manager Salary: 13000\n"
          ]
        }
      ]
    },
    {
      "cell_type": "markdown",
      "source": [
        "## 15.  Create a class Product with attributes name, price, and quantity. Implement a method total_price() that calculates the total price of the product."
      ],
      "metadata": {
        "id": "VmyzEu8fjZXf"
      }
    },
    {
      "cell_type": "code",
      "source": [
        "class Product:\n",
        "    def __init__(self, name, price, quantity):\n",
        "        self.name = name\n",
        "        self.price = price\n",
        "        self.quantity = quantity\n",
        "\n",
        "    def total_price(self):\n",
        "        return self.price * self.quantity\n",
        "\n",
        "# Test\n",
        "p = Product(\"Pen\", 10, 5)\n",
        "print(\"Total Price:\", p.total_price())  # Total Price: 50\n"
      ],
      "metadata": {
        "colab": {
          "base_uri": "https://localhost:8080/"
        },
        "id": "aaHJ-OwGjXL7",
        "outputId": "744982d4-bd8d-4c22-b592-2a4aaebc1d70"
      },
      "execution_count": 24,
      "outputs": [
        {
          "output_type": "stream",
          "name": "stdout",
          "text": [
            "Total Price: 50\n"
          ]
        }
      ]
    },
    {
      "cell_type": "markdown",
      "source": [
        "##16.  Create a class Animal with an abstract method sound(). Create two derived classes Cow and Sheep that implement the sound() method."
      ],
      "metadata": {
        "id": "pH-3HkR-jfnP"
      }
    },
    {
      "cell_type": "code",
      "source": [
        "from abc import ABC, abstractmethod\n",
        "\n",
        "class Animal(ABC):\n",
        "    @abstractmethod\n",
        "    def sound(self):\n",
        "        pass\n",
        "\n",
        "class Cow(Animal):\n",
        "    def sound(self):\n",
        "        print(\"Moo!\")\n",
        "\n",
        "class Sheep(Animal):\n",
        "    def sound(self):\n",
        "        print(\"Baa!\")\n",
        "\n",
        "# Test\n",
        "c = Cow()\n",
        "c.sound()  # Moo!\n",
        "\n",
        "s = Sheep()\n",
        "s.sound()  # Baa!\n"
      ],
      "metadata": {
        "colab": {
          "base_uri": "https://localhost:8080/"
        },
        "id": "tBaJ2QgmjeyJ",
        "outputId": "c10d7c85-cac5-4333-bbc9-c5e4ddcb7dd7"
      },
      "execution_count": 25,
      "outputs": [
        {
          "output_type": "stream",
          "name": "stdout",
          "text": [
            "Moo!\n",
            "Baa!\n"
          ]
        }
      ]
    },
    {
      "cell_type": "markdown",
      "source": [
        "##17. Create a class Book with attributes title, author, and year_published. Add a method get_book_info() that returns a formatted string with the book's details."
      ],
      "metadata": {
        "id": "vAuu7kzSjp4L"
      }
    },
    {
      "cell_type": "code",
      "source": [
        "class Book:\n",
        "    def __init__(self, title, author, year_published):\n",
        "        self.title = title\n",
        "        self.author = author\n",
        "        self.year_published = year_published\n",
        "\n",
        "    def get_book_info(self):\n",
        "        return f\"{self.title} by {self.author} ({self.year_published})\"\n",
        "\n",
        "# Test\n",
        "b = Book(\"The Alchemist\", \"Paulo Coelho\", 1988)\n",
        "print(b.get_book_info())  # The Alchemist by Paulo Coelho (1988)\n"
      ],
      "metadata": {
        "colab": {
          "base_uri": "https://localhost:8080/"
        },
        "id": "qsboNzjijkgT",
        "outputId": "7e4308e2-6263-46ce-d7d0-b3e9aff1248d"
      },
      "execution_count": 26,
      "outputs": [
        {
          "output_type": "stream",
          "name": "stdout",
          "text": [
            "The Alchemist by Paulo Coelho (1988)\n"
          ]
        }
      ]
    },
    {
      "cell_type": "markdown",
      "source": [
        "##18. Create a class House with attributes address and price. Create a derived class Mansion that adds an attribute number_of_rooms."
      ],
      "metadata": {
        "id": "DCW4jqf8jvTf"
      }
    },
    {
      "cell_type": "code",
      "source": [
        "class House:\n",
        "    def __init__(self, address, price):\n",
        "        self.address = address\n",
        "        self.price = price\n",
        "\n",
        "class Mansion(House):\n",
        "    def __init__(self, address, price, number_of_rooms):\n",
        "        super().__init__(address, price)\n",
        "        self.number_of_rooms = number_of_rooms\n",
        "\n",
        "# Test\n",
        "m = Mansion(\"Green Street\", 2000000, 12)\n",
        "print(\"Address:\", m.address)             # Green Street\n",
        "print(\"Price:\", m.price)                 # 2000000\n",
        "print(\"Rooms:\", m.number_of_rooms)       # 12\n"
      ],
      "metadata": {
        "colab": {
          "base_uri": "https://localhost:8080/"
        },
        "id": "BOJq1v5vjuo0",
        "outputId": "6fbfe362-f47c-4e7c-faad-a8251a788c67"
      },
      "execution_count": 27,
      "outputs": [
        {
          "output_type": "stream",
          "name": "stdout",
          "text": [
            "Address: Green Street\n",
            "Price: 2000000\n",
            "Rooms: 12\n"
          ]
        }
      ]
    },
    {
      "cell_type": "code",
      "source": [],
      "metadata": {
        "id": "_9uzq-Qwj0qG"
      },
      "execution_count": null,
      "outputs": []
    }
  ]
}